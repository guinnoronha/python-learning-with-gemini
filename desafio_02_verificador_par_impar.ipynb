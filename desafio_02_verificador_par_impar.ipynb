{
  "nbformat": 4,
  "nbformat_minor": 0,
  "metadata": {
    "colab": {
      "provenance": []
    },
    "kernelspec": {
      "name": "python3",
      "display_name": "Python 3"
    },
    "language_info": {
      "name": "python"
    }
  },
  "cells": [
    {
      "cell_type": "markdown",
      "source": [
        "# Desafio 02\n",
        "\n",
        "## Verificador de Número Par/Ímpar: Determina se um número é par ou ímpar."
      ],
      "metadata": {
        "id": "PZBOU6vhVSxK"
      }
    },
    {
      "cell_type": "code",
      "source": [
        "# Definindo Variáveis\n",
        "num = int(input(\"Digite o número que deseja analisar: \"))"
      ],
      "metadata": {
        "id": "7fUNFe4VXgP3"
      },
      "execution_count": null,
      "outputs": []
    },
    {
      "cell_type": "code",
      "source": [
        "# Definindo Função\n",
        "def verificadorNum(num):\n",
        "  if num % 2 == 0:\n",
        "    return \"PAR\"\n",
        "  else:\n",
        "    return \"ÍMPAR\""
      ],
      "metadata": {
        "id": "ZHLMw6TIYYsO"
      },
      "execution_count": 9,
      "outputs": []
    },
    {
      "cell_type": "code",
      "source": [
        "# Script\n",
        "print(f\"O número {num} é {verificadorNum(num)}\")\n"
      ],
      "metadata": {
        "id": "JSzB78u2YrJ3"
      },
      "execution_count": null,
      "outputs": []
    }
  ]
}
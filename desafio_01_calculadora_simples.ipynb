{
  "nbformat": 4,
  "nbformat_minor": 0,
  "metadata": {
    "colab": {
      "provenance": []
    },
    "kernelspec": {
      "name": "python3",
      "display_name": "Python 3"
    },
    "language_info": {
      "name": "python"
    }
  },
  "cells": [
    {
      "cell_type": "markdown",
      "source": [
        "# Desafio 01\n",
        "\n",
        "## Calculadora Simples: Programa básico para operações aritméticas."
      ],
      "metadata": {
        "id": "PZBOU6vhVSxK"
      }
    },
    {
      "cell_type": "code",
      "execution_count": 4,
      "metadata": {
        "colab": {
          "base_uri": "https://localhost:8080/"
        },
        "id": "mp2KrmM2VGU_",
        "outputId": "97569083-f00e-4186-9ccc-941da17ffce6"
      },
      "outputs": [
        {
          "output_type": "stream",
          "name": "stdout",
          "text": [
            "Digite o primeiro número: 10\n",
            "Digite o segundo número: 5\n",
            "Escolha a operação [+] ou [-] ou [*] ou [/]: a\n",
            "Função escolhida inexistente!\n"
          ]
        }
      ],
      "source": [
        "# Definindo variáveis\n",
        "n1 = int(input(\"Digite o primeiro número: \"))\n",
        "n2 = int(input(\"Digite o segundo número: \"))\n",
        "op = input(\"Escolha a operação [+] ou [-] ou [*] ou [/]: \")"
      ]
    },
    {
      "cell_type": "code",
      "source": [
        "# Definindo Função\n",
        "def calculadora(n1,n2,op):\n",
        "  if op == \"+\":\n",
        "    return n1+n2\n",
        "  elif op == \"-\":\n",
        "    return n1-n2\n",
        "  elif op == \"*\":\n",
        "    return n1*n2\n",
        "  elif op == \"/\":\n",
        "    return n1/n2\n",
        "  else:\n",
        "    return print(\"Função escolhida inexistente!\")"
      ],
      "metadata": {
        "id": "7fUNFe4VXgP3"
      },
      "execution_count": null,
      "outputs": []
    },
    {
      "cell_type": "code",
      "source": [
        "# Script\n",
        "try:\n",
        "  calculadora(n1,n2,op)\n",
        "except:\n",
        "   print(\"Função escolhida inexistente!\")"
      ],
      "metadata": {
        "id": "vl3xrfmOXizf"
      },
      "execution_count": null,
      "outputs": []
    }
  ]
}
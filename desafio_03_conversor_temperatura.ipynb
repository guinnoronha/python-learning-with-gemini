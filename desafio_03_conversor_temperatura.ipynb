{
  "nbformat": 4,
  "nbformat_minor": 0,
  "metadata": {
    "colab": {
      "provenance": []
    },
    "kernelspec": {
      "name": "python3",
      "display_name": "Python 3"
    },
    "language_info": {
      "name": "python"
    }
  },
  "cells": [
    {
      "cell_type": "markdown",
      "source": [
        "# Desafio 03\n",
        "\n",
        "## Conversor de Temperatura: Converte entre Celsius e Fahrenheit."
      ],
      "metadata": {
        "id": "PZBOU6vhVSxK"
      }
    },
    {
      "cell_type": "code",
      "source": [
        "# Definindo Tipo de Conversão\n",
        "print(\"Tipos de Conversão:\")\n",
        "print(\"[1] °C para °F\")\n",
        "print(\"[2] °F para °C\")\n",
        "\n",
        "# Definindo a Conversão escolhida\n",
        "while True:\n",
        "    try:\n",
        "        tipo = int(input(\"Selecione a Conversão que deseja realizar: \"))\n",
        "        if tipo in [1, 2]:\n",
        "            break\n",
        "        else:\n",
        "            print(\"Opção inválida. Por favor, digite 1 ou 2.\")\n",
        "    except ValueError:\n",
        "        print(\"Entrada inválida. Por favor, digite um número (1 ou 2).\")\n",
        "\n",
        "if tipo == 1:\n",
        "  text = \"°C\"\n",
        "else:\n",
        "  text = \"°F\"\n",
        "\n",
        "if tipo == 1:\n",
        "  text2 = \"°F\"\n",
        "else:\n",
        "  text2 = \"°C\"\n",
        "\n",
        "tempInput = float(input(f\"Insira a Temperatura em {text}: \"))"
      ],
      "metadata": {
        "id": "7fUNFe4VXgP3"
      },
      "execution_count": null,
      "outputs": []
    },
    {
      "cell_type": "code",
      "source": [
        "# Definindo Função\n",
        "def convertTemp(tempInput, tipo):\n",
        "  if tipo == 1:\n",
        "    tempOutput = (tempInput * 1.8) + 32\n",
        "    return round(tempOutput,1)\n",
        "  elif tipo == 2:\n",
        "    tempOutput = (tempInput - 32) / 1.8\n",
        "    return round(tempOutput,1)"
      ],
      "metadata": {
        "id": "ZHLMw6TIYYsO"
      },
      "execution_count": 32,
      "outputs": []
    },
    {
      "cell_type": "code",
      "source": [
        "# Script\n",
        "print(f\"A temperatura de {tempInput}{text} equivale a {convertTemp(tempInput, tipo)}{text2}\")\n"
      ],
      "metadata": {
        "id": "JSzB78u2YrJ3"
      },
      "execution_count": null,
      "outputs": []
    }
  ]
}